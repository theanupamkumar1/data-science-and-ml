{
 "cells": [
  {
   "cell_type": "code",
   "execution_count": 1,
   "id": "c24dd980",
   "metadata": {},
   "outputs": [],
   "source": [
    "import pandas as pd\n",
    "import numpy as np"
   ]
  },
  {
   "cell_type": "code",
   "execution_count": 2,
   "id": "1f05d89f",
   "metadata": {},
   "outputs": [],
   "source": [
    "dict1 ={\n",
    "    \"name\": ['a','d','s','g','e','c','g','s'],\n",
    "    \"class\":[5,52,4,2,4,24,2,7],\n",
    "    \"place\":['jn', 'gj', 'rj', 'bh','lk','kh','lk','ko']\n",
    "}"
   ]
  },
  {
   "cell_type": "code",
   "execution_count": 3,
   "id": "de59819a",
   "metadata": {},
   "outputs": [
    {
     "name": "stdout",
     "output_type": "stream",
     "text": [
      "  name  class place\n",
      "0    a      5    jn\n",
      "1    d     52    gj\n",
      "2    s      4    rj\n",
      "3    g      2    bh\n",
      "4    e      4    lk\n",
      "5    c     24    kh\n",
      "6    g      2    lk\n",
      "7    s      7    ko\n"
     ]
    }
   ],
   "source": [
    "d1 = pd.DataFrame(dict1)\n",
    "print(d1)\n"
   ]
  },
  {
   "cell_type": "code",
   "execution_count": 4,
   "id": "a4693f19",
   "metadata": {},
   "outputs": [],
   "source": [
    "d1.to_csv(\"smaple_data.csv\")"
   ]
  },
  {
   "cell_type": "code",
   "execution_count": 5,
   "id": "08d2436e",
   "metadata": {},
   "outputs": [
    {
     "data": {
      "text/html": [
       "<div>\n",
       "<style scoped>\n",
       "    .dataframe tbody tr th:only-of-type {\n",
       "        vertical-align: middle;\n",
       "    }\n",
       "\n",
       "    .dataframe tbody tr th {\n",
       "        vertical-align: top;\n",
       "    }\n",
       "\n",
       "    .dataframe thead th {\n",
       "        text-align: right;\n",
       "    }\n",
       "</style>\n",
       "<table border=\"1\" class=\"dataframe\">\n",
       "  <thead>\n",
       "    <tr style=\"text-align: right;\">\n",
       "      <th></th>\n",
       "      <th>class</th>\n",
       "    </tr>\n",
       "  </thead>\n",
       "  <tbody>\n",
       "    <tr>\n",
       "      <th>count</th>\n",
       "      <td>8.00000</td>\n",
       "    </tr>\n",
       "    <tr>\n",
       "      <th>mean</th>\n",
       "      <td>12.50000</td>\n",
       "    </tr>\n",
       "    <tr>\n",
       "      <th>std</th>\n",
       "      <td>17.50102</td>\n",
       "    </tr>\n",
       "    <tr>\n",
       "      <th>min</th>\n",
       "      <td>2.00000</td>\n",
       "    </tr>\n",
       "    <tr>\n",
       "      <th>25%</th>\n",
       "      <td>3.50000</td>\n",
       "    </tr>\n",
       "    <tr>\n",
       "      <th>50%</th>\n",
       "      <td>4.50000</td>\n",
       "    </tr>\n",
       "    <tr>\n",
       "      <th>75%</th>\n",
       "      <td>11.25000</td>\n",
       "    </tr>\n",
       "    <tr>\n",
       "      <th>max</th>\n",
       "      <td>52.00000</td>\n",
       "    </tr>\n",
       "  </tbody>\n",
       "</table>\n",
       "</div>"
      ],
      "text/plain": [
       "          class\n",
       "count   8.00000\n",
       "mean   12.50000\n",
       "std    17.50102\n",
       "min     2.00000\n",
       "25%     3.50000\n",
       "50%     4.50000\n",
       "75%    11.25000\n",
       "max    52.00000"
      ]
     },
     "execution_count": 5,
     "metadata": {},
     "output_type": "execute_result"
    }
   ],
   "source": [
    "d1.describe()"
   ]
  },
  {
   "cell_type": "markdown",
   "id": "53bad383",
   "metadata": {},
   "source": [
    "changeing excle file to csv"
   ]
  },
  {
   "cell_type": "code",
   "execution_count": 6,
   "id": "7e72c70d",
   "metadata": {},
   "outputs": [],
   "source": [
    "# sec_d = pd.read_excel('section_d.xlsx')\n",
    "# sec_d.to_csv('section_d.csv')\n",
    "\n",
    "\n"
   ]
  },
  {
   "cell_type": "code",
   "execution_count": 7,
   "id": "11e3de1c",
   "metadata": {},
   "outputs": [
    {
     "data": {
      "text/html": [
       "<div>\n",
       "<style scoped>\n",
       "    .dataframe tbody tr th:only-of-type {\n",
       "        vertical-align: middle;\n",
       "    }\n",
       "\n",
       "    .dataframe tbody tr th {\n",
       "        vertical-align: top;\n",
       "    }\n",
       "\n",
       "    .dataframe thead th {\n",
       "        text-align: right;\n",
       "    }\n",
       "</style>\n",
       "<table border=\"1\" class=\"dataframe\">\n",
       "  <thead>\n",
       "    <tr style=\"text-align: right;\">\n",
       "      <th></th>\n",
       "      <th>Unnamed: 0</th>\n",
       "      <th>Name</th>\n",
       "      <th>Recipient</th>\n",
       "      <th>Phone Number</th>\n",
       "    </tr>\n",
       "  </thead>\n",
       "  <tbody>\n",
       "    <tr>\n",
       "      <th>0</th>\n",
       "      <td>0</td>\n",
       "      <td>Dheeraj Jangid</td>\n",
       "      <td>dheerajjangid013@gmail.com</td>\n",
       "      <td>9.351377e+09</td>\n",
       "    </tr>\n",
       "    <tr>\n",
       "      <th>1</th>\n",
       "      <td>1</td>\n",
       "      <td>Utkansha Vashistha</td>\n",
       "      <td>utkanshavashistha2029@gmail.com</td>\n",
       "      <td>7.790932e+09</td>\n",
       "    </tr>\n",
       "    <tr>\n",
       "      <th>2</th>\n",
       "      <td>2</td>\n",
       "      <td>Siya Beniwal</td>\n",
       "      <td>siyabeniwal24@gmail.com</td>\n",
       "      <td>9.799560e+09</td>\n",
       "    </tr>\n",
       "    <tr>\n",
       "      <th>3</th>\n",
       "      <td>3</td>\n",
       "      <td>Sakshat</td>\n",
       "      <td>sakshat678@gmail.com</td>\n",
       "      <td>8.005658e+09</td>\n",
       "    </tr>\n",
       "    <tr>\n",
       "      <th>4</th>\n",
       "      <td>4</td>\n",
       "      <td>Himanshu Kaushik</td>\n",
       "      <td>himanshukaushik00000@gmail.com</td>\n",
       "      <td>7.852001e+09</td>\n",
       "    </tr>\n",
       "  </tbody>\n",
       "</table>\n",
       "</div>"
      ],
      "text/plain": [
       "   Unnamed: 0                Name                        Recipient  \\\n",
       "0           0      Dheeraj Jangid       dheerajjangid013@gmail.com   \n",
       "1           1  Utkansha Vashistha  utkanshavashistha2029@gmail.com   \n",
       "2           2        Siya Beniwal          siyabeniwal24@gmail.com   \n",
       "3           3             Sakshat             sakshat678@gmail.com   \n",
       "4           4    Himanshu Kaushik   himanshukaushik00000@gmail.com   \n",
       "\n",
       "   Phone Number  \n",
       "0  9.351377e+09  \n",
       "1  7.790932e+09  \n",
       "2  9.799560e+09  \n",
       "3  8.005658e+09  \n",
       "4  7.852001e+09  "
      ]
     },
     "execution_count": 7,
     "metadata": {},
     "output_type": "execute_result"
    }
   ],
   "source": [
    "sec_d=pd.read_csv('section_d.csv')\n",
    "\n",
    "sec_d.head()"
   ]
  },
  {
   "cell_type": "code",
   "execution_count": 8,
   "id": "cca447f6",
   "metadata": {},
   "outputs": [
    {
     "name": "stderr",
     "output_type": "stream",
     "text": [
      "C:\\Users\\anupam kumar\\AppData\\Local\\Temp\\ipykernel_22928\\256345759.py:1: SettingWithCopyWarning: \n",
      "A value is trying to be set on a copy of a slice from a DataFrame\n",
      "\n",
      "See the caveats in the documentation: https://pandas.pydata.org/pandas-docs/stable/user_guide/indexing.html#returning-a-view-versus-a-copy\n",
      "  sec_d['Phone Number'][43]= 8690365569\n"
     ]
    }
   ],
   "source": [
    "sec_d['Phone Number'][43]= 8690365569"
   ]
  },
  {
   "cell_type": "code",
   "execution_count": 9,
   "id": "68524cb4",
   "metadata": {},
   "outputs": [
    {
     "data": {
      "text/plain": [
       "8690365569.0"
      ]
     },
     "execution_count": 9,
     "metadata": {},
     "output_type": "execute_result"
    }
   ],
   "source": [
    "sec_d['Phone Number'][43]\n"
   ]
  },
  {
   "cell_type": "code",
   "execution_count": 10,
   "id": "f879c83a",
   "metadata": {},
   "outputs": [
    {
     "data": {
      "text/plain": [
       "0    0.051098\n",
       "1    0.835536\n",
       "2    0.202141\n",
       "3    0.893932\n",
       "4    0.358575\n",
       "5    0.935297\n",
       "6    0.519248\n",
       "dtype: float64"
      ]
     },
     "execution_count": 10,
     "metadata": {},
     "output_type": "execute_result"
    }
   ],
   "source": [
    "sr = pd.Series(np.random.rand(7))\n",
    "sr"
   ]
  },
  {
   "cell_type": "code",
   "execution_count": 11,
   "id": "1decdad8",
   "metadata": {},
   "outputs": [
    {
     "data": {
      "text/plain": [
       "pandas.core.series.Series"
      ]
     },
     "execution_count": 11,
     "metadata": {},
     "output_type": "execute_result"
    }
   ],
   "source": [
    "type(sr)"
   ]
  },
  {
   "cell_type": "code",
   "execution_count": 12,
   "id": "f325ce5f",
   "metadata": {},
   "outputs": [],
   "source": [
    "sec_d_names = sec_d"
   ]
  },
  {
   "cell_type": "code",
   "execution_count": 13,
   "id": "97aabe57",
   "metadata": {},
   "outputs": [
    {
     "data": {
      "text/plain": [
       "0        Dheeraj Jangid\n",
       "1    Utkansha Vashistha\n",
       "2          Siya Beniwal\n",
       "3               Sakshat\n",
       "4      Himanshu Kaushik\n",
       "Name: Name, dtype: object"
      ]
     },
     "execution_count": 13,
     "metadata": {},
     "output_type": "execute_result"
    }
   ],
   "source": [
    "sec_d[\"Name\"].head()"
   ]
  },
  {
   "cell_type": "code",
   "execution_count": 14,
   "id": "87b88b41",
   "metadata": {},
   "outputs": [
    {
     "name": "stderr",
     "output_type": "stream",
     "text": [
      "C:\\Users\\anupam kumar\\AppData\\Local\\Temp\\ipykernel_22928\\2378348589.py:1: SettingWithCopyWarning: \n",
      "A value is trying to be set on a copy of a slice from a DataFrame\n",
      "\n",
      "See the caveats in the documentation: https://pandas.pydata.org/pandas-docs/stable/user_guide/indexing.html#returning-a-view-versus-a-copy\n",
      "  sec_d_names[\"Name\"][3]= \"chumatiya\"\n"
     ]
    }
   ],
   "source": [
    "sec_d_names[\"Name\"][3]= \"chumatiya\""
   ]
  },
  {
   "cell_type": "code",
   "execution_count": 15,
   "id": "91a6352d",
   "metadata": {},
   "outputs": [
    {
     "data": {
      "text/html": [
       "<div>\n",
       "<style scoped>\n",
       "    .dataframe tbody tr th:only-of-type {\n",
       "        vertical-align: middle;\n",
       "    }\n",
       "\n",
       "    .dataframe tbody tr th {\n",
       "        vertical-align: top;\n",
       "    }\n",
       "\n",
       "    .dataframe thead th {\n",
       "        text-align: right;\n",
       "    }\n",
       "</style>\n",
       "<table border=\"1\" class=\"dataframe\">\n",
       "  <thead>\n",
       "    <tr style=\"text-align: right;\">\n",
       "      <th></th>\n",
       "      <th>Unnamed: 0</th>\n",
       "      <th>Name</th>\n",
       "      <th>Recipient</th>\n",
       "      <th>Phone Number</th>\n",
       "    </tr>\n",
       "  </thead>\n",
       "  <tbody>\n",
       "    <tr>\n",
       "      <th>0</th>\n",
       "      <td>0</td>\n",
       "      <td>Dheeraj Jangid</td>\n",
       "      <td>dheerajjangid013@gmail.com</td>\n",
       "      <td>9.351377e+09</td>\n",
       "    </tr>\n",
       "    <tr>\n",
       "      <th>1</th>\n",
       "      <td>1</td>\n",
       "      <td>Utkansha Vashistha</td>\n",
       "      <td>utkanshavashistha2029@gmail.com</td>\n",
       "      <td>7.790932e+09</td>\n",
       "    </tr>\n",
       "    <tr>\n",
       "      <th>2</th>\n",
       "      <td>2</td>\n",
       "      <td>Siya Beniwal</td>\n",
       "      <td>siyabeniwal24@gmail.com</td>\n",
       "      <td>9.799560e+09</td>\n",
       "    </tr>\n",
       "    <tr>\n",
       "      <th>3</th>\n",
       "      <td>3</td>\n",
       "      <td>chumatiya</td>\n",
       "      <td>sakshat678@gmail.com</td>\n",
       "      <td>8.005658e+09</td>\n",
       "    </tr>\n",
       "    <tr>\n",
       "      <th>4</th>\n",
       "      <td>4</td>\n",
       "      <td>Himanshu Kaushik</td>\n",
       "      <td>himanshukaushik00000@gmail.com</td>\n",
       "      <td>7.852001e+09</td>\n",
       "    </tr>\n",
       "  </tbody>\n",
       "</table>\n",
       "</div>"
      ],
      "text/plain": [
       "   Unnamed: 0                Name                        Recipient  \\\n",
       "0           0      Dheeraj Jangid       dheerajjangid013@gmail.com   \n",
       "1           1  Utkansha Vashistha  utkanshavashistha2029@gmail.com   \n",
       "2           2        Siya Beniwal          siyabeniwal24@gmail.com   \n",
       "3           3           chumatiya             sakshat678@gmail.com   \n",
       "4           4    Himanshu Kaushik   himanshukaushik00000@gmail.com   \n",
       "\n",
       "   Phone Number  \n",
       "0  9.351377e+09  \n",
       "1  7.790932e+09  \n",
       "2  9.799560e+09  \n",
       "3  8.005658e+09  \n",
       "4  7.852001e+09  "
      ]
     },
     "execution_count": 15,
     "metadata": {},
     "output_type": "execute_result"
    }
   ],
   "source": [
    "sec_d.head()"
   ]
  },
  {
   "cell_type": "code",
   "execution_count": 16,
   "id": "3f16ee50",
   "metadata": {},
   "outputs": [
    {
     "name": "stderr",
     "output_type": "stream",
     "text": [
      "C:\\Users\\anupam kumar\\AppData\\Local\\Temp\\ipykernel_22928\\1884076747.py:1: SettingWithCopyWarning: \n",
      "A value is trying to be set on a copy of a slice from a DataFrame\n",
      "\n",
      "See the caveats in the documentation: https://pandas.pydata.org/pandas-docs/stable/user_guide/indexing.html#returning-a-view-versus-a-copy\n",
      "  sec_d.loc[0][\"Name\"] = \"hottie\"\n"
     ]
    }
   ],
   "source": [
    "sec_d.loc[1][\"Name\"] = \"hottie\""
   ]
  },
  {
   "cell_type": "code",
   "execution_count": 17,
   "id": "17c8514c",
   "metadata": {},
   "outputs": [
    {
     "data": {
      "text/html": [
       "<div>\n",
       "<style scoped>\n",
       "    .dataframe tbody tr th:only-of-type {\n",
       "        vertical-align: middle;\n",
       "    }\n",
       "\n",
       "    .dataframe tbody tr th {\n",
       "        vertical-align: top;\n",
       "    }\n",
       "\n",
       "    .dataframe thead th {\n",
       "        text-align: right;\n",
       "    }\n",
       "</style>\n",
       "<table border=\"1\" class=\"dataframe\">\n",
       "  <thead>\n",
       "    <tr style=\"text-align: right;\">\n",
       "      <th></th>\n",
       "      <th>Unnamed: 0</th>\n",
       "      <th>Name</th>\n",
       "      <th>Recipient</th>\n",
       "      <th>Phone Number</th>\n",
       "    </tr>\n",
       "  </thead>\n",
       "  <tbody>\n",
       "    <tr>\n",
       "      <th>0</th>\n",
       "      <td>0</td>\n",
       "      <td>Dheeraj Jangid</td>\n",
       "      <td>dheerajjangid013@gmail.com</td>\n",
       "      <td>9.351377e+09</td>\n",
       "    </tr>\n",
       "    <tr>\n",
       "      <th>1</th>\n",
       "      <td>1</td>\n",
       "      <td>Utkansha Vashistha</td>\n",
       "      <td>utkanshavashistha2029@gmail.com</td>\n",
       "      <td>7.790932e+09</td>\n",
       "    </tr>\n",
       "    <tr>\n",
       "      <th>2</th>\n",
       "      <td>2</td>\n",
       "      <td>Siya Beniwal</td>\n",
       "      <td>siyabeniwal24@gmail.com</td>\n",
       "      <td>9.799560e+09</td>\n",
       "    </tr>\n",
       "    <tr>\n",
       "      <th>3</th>\n",
       "      <td>3</td>\n",
       "      <td>chumatiya</td>\n",
       "      <td>sakshat678@gmail.com</td>\n",
       "      <td>8.005658e+09</td>\n",
       "    </tr>\n",
       "  </tbody>\n",
       "</table>\n",
       "</div>"
      ],
      "text/plain": [
       "   Unnamed: 0                Name                        Recipient  \\\n",
       "0           0      Dheeraj Jangid       dheerajjangid013@gmail.com   \n",
       "1           1  Utkansha Vashistha  utkanshavashistha2029@gmail.com   \n",
       "2           2        Siya Beniwal          siyabeniwal24@gmail.com   \n",
       "3           3           chumatiya             sakshat678@gmail.com   \n",
       "\n",
       "   Phone Number  \n",
       "0  9.351377e+09  \n",
       "1  7.790932e+09  \n",
       "2  9.799560e+09  \n",
       "3  8.005658e+09  "
      ]
     },
     "execution_count": 17,
     "metadata": {},
     "output_type": "execute_result"
    }
   ],
   "source": [
    "sec_d.head(4)"
   ]
  }
 ],
 "metadata": {
  "kernelspec": {
   "display_name": "Python 3 (ipykernel)",
   "language": "python",
   "name": "python3"
  },
  "language_info": {
   "codemirror_mode": {
    "name": "ipython",
    "version": 3
   },
   "file_extension": ".py",
   "mimetype": "text/x-python",
   "name": "python",
   "nbconvert_exporter": "python",
   "pygments_lexer": "ipython3",
   "version": "3.11.5"
  }
 },
 "nbformat": 4,
 "nbformat_minor": 5
}
