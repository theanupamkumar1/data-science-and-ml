{
 "cells": [
  {
   "cell_type": "code",
   "execution_count": 1,
   "id": "a4bdabe2",
   "metadata": {},
   "outputs": [],
   "source": [
    "import json\n",
    "\n"
   ]
  },
  {
   "cell_type": "code",
   "execution_count": 7,
   "id": "2be8b849",
   "metadata": {},
   "outputs": [],
   "source": [
    "json_data = '{ \"clg\": \"arya\",\"roll_no\": \"21eaiad005\",\"name\": \"anupam kumar\"}'"
   ]
  },
  {
   "cell_type": "code",
   "execution_count": 8,
   "id": "e7ad78f5",
   "metadata": {},
   "outputs": [],
   "source": [
    "x= json.loads(json_data)"
   ]
  },
  {
   "cell_type": "code",
   "execution_count": 10,
   "id": "b14170fc",
   "metadata": {},
   "outputs": [
    {
     "data": {
      "text/plain": [
       "'arya'"
      ]
     },
     "execution_count": 10,
     "metadata": {},
     "output_type": "execute_result"
    }
   ],
   "source": [
    "x['clg']"
   ]
  }
 ],
 "metadata": {
  "kernelspec": {
   "display_name": "Python 3 (ipykernel)",
   "language": "python",
   "name": "python3"
  },
  "language_info": {
   "codemirror_mode": {
    "name": "ipython",
    "version": 3
   },
   "file_extension": ".py",
   "mimetype": "text/x-python",
   "name": "python",
   "nbconvert_exporter": "python",
   "pygments_lexer": "ipython3",
   "version": "3.11.5"
  }
 },
 "nbformat": 4,
 "nbformat_minor": 5
}
